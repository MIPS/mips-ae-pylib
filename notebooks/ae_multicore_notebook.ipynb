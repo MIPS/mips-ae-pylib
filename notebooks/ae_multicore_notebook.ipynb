{
 "cells": [
  {
   "cell_type": "markdown",
   "id": "8b87038b",
   "metadata": {},
   "source": [
    "# ATLAS Explorer: Multicore Experiment (Customer Notebook)\n",
    "\n",
    "Run a multicore experiment with multiple workloads easily—no Python expertise required.\n",
    "\n",
    "You will:\n",
    "1. Check project & prior runs\n",
    "2. Configure / detect credentials\n",
    "3. Set experiment parameters (ELFs, core type)\n",
    "4. Run the experiment\n",
    "5. View Total Cycles and summary table\n",
    "6. (Optional) Explore derived metrics\n",
    "\n",
    "Use Shift+Enter to run each cell in order. Modify only the clearly labeled parameter cell.\n",
    "---"
   ]
  },
  {
   "cell_type": "code",
   "execution_count": 1,
   "id": "bf33052a",
   "metadata": {},
   "outputs": [
    {
     "name": "stdout",
     "output_type": "stream",
     "text": [
      "Environment initialized.\n"
     ]
    }
   ],
   "source": [
    "\"\"\"Preamble: imports (no edits needed).\"\"\"\n",
    "import os, json, locale, datetime\n",
    "from pathlib import Path\n",
    "import pandas as pd\n",
    "from dotenv import load_dotenv\n",
    "\n",
    "load_dotenv()\n",
    "locale.setlocale(locale.LC_ALL, \"\")\n",
    "print(\"Environment initialized.\")"
   ]
  },
  {
   "cell_type": "markdown",
   "id": "ecad5f34",
   "metadata": {},
   "source": [
    "## 1. Check Project & Existing Experiments\n",
    "Lists previous runs under `myexperiments/` so you can reuse or compare results later."
   ]
  },
  {
   "cell_type": "code",
   "execution_count": 2,
   "id": "ca623593",
   "metadata": {},
   "outputs": [
    {
     "name": "stdout",
     "output_type": "stream",
     "text": [
      "Working directory set to repo root: /Users/jschroeder/Documents/code_repos/mips-ae-pylib\n"
     ]
    },
    {
     "data": {
      "text/html": [
       "<div>\n",
       "<style scoped>\n",
       "    .dataframe tbody tr th:only-of-type {\n",
       "        vertical-align: middle;\n",
       "    }\n",
       "\n",
       "    .dataframe tbody tr th {\n",
       "        vertical-align: top;\n",
       "    }\n",
       "\n",
       "    .dataframe thead th {\n",
       "        text-align: right;\n",
       "    }\n",
       "</style>\n",
       "<table border=\"1\" class=\"dataframe\">\n",
       "  <thead>\n",
       "    <tr style=\"text-align: right;\">\n",
       "      <th></th>\n",
       "      <th>name</th>\n",
       "      <th>summary</th>\n",
       "      <th>modified</th>\n",
       "    </tr>\n",
       "  </thead>\n",
       "  <tbody>\n",
       "    <tr>\n",
       "      <th>1</th>\n",
       "      <td>I8500_(1_thread)_250811_105319</td>\n",
       "      <td>/Users/jschroeder/Documents/code_repos/mips-ae...</td>\n",
       "      <td>2025-08-11T10:53:28</td>\n",
       "    </tr>\n",
       "    <tr>\n",
       "      <th>2</th>\n",
       "      <td>I8500_(2_threads)_250808_103012</td>\n",
       "      <td>/Users/jschroeder/Documents/code_repos/mips-ae...</td>\n",
       "      <td>2025-08-08T10:34:36</td>\n",
       "    </tr>\n",
       "    <tr>\n",
       "      <th>0</th>\n",
       "      <td>I8500_(1_thread)_250808_102301</td>\n",
       "      <td>/Users/jschroeder/Documents/code_repos/mips-ae...</td>\n",
       "      <td>2025-08-08T10:27:58</td>\n",
       "    </tr>\n",
       "  </tbody>\n",
       "</table>\n",
       "</div>"
      ],
      "text/plain": [
       "                              name  \\\n",
       "1   I8500_(1_thread)_250811_105319   \n",
       "2  I8500_(2_threads)_250808_103012   \n",
       "0   I8500_(1_thread)_250808_102301   \n",
       "\n",
       "                                             summary             modified  \n",
       "1  /Users/jschroeder/Documents/code_repos/mips-ae...  2025-08-11T10:53:28  \n",
       "2  /Users/jschroeder/Documents/code_repos/mips-ae...  2025-08-08T10:34:36  \n",
       "0  /Users/jschroeder/Documents/code_repos/mips-ae...  2025-08-08T10:27:58  "
      ]
     },
     "metadata": {},
     "output_type": "display_data"
    }
   ],
   "source": [
    "# Detect repo root and list existing multicore experiment runs.\n",
    "from pathlib import Path\n",
    "import os, datetime\n",
    "\n",
    "cwd = Path.cwd()\n",
    "repo_root = None\n",
    "for p in [cwd, *cwd.parents]:\n",
    "    if (p / \"pyproject.toml\").exists() or (p / \".git\").exists():\n",
    "        repo_root = p\n",
    "        break\n",
    "repo_root = repo_root or cwd\n",
    "os.chdir(repo_root)\n",
    "print(f\"Working directory set to repo root: {repo_root}\")\n",
    "\n",
    "exp_root = repo_root / \"myexperiments\"\n",
    "rows = []\n",
    "if exp_root.exists():\n",
    "    for run_dir in sorted(exp_root.iterdir()):\n",
    "        if run_dir.is_dir():\n",
    "            summary = next(run_dir.rglob(\"reports/summary/summary.json\"), None)\n",
    "            mtime = datetime.datetime.fromtimestamp(run_dir.stat().st_mtime)\n",
    "            rows.append({\n",
    "                \"name\": run_dir.name,\n",
    "                \"summary\": str(summary) if summary else \"-\",\n",
    "                \"modified\": mtime.isoformat(timespec=\"seconds\"),\n",
    "            })\n",
    "    if not rows:\n",
    "        print(\"No experiments found yet under 'myexperiments'.\")\n",
    "else:\n",
    "    print(\"No 'myexperiments' directory found yet.\")\n",
    "\n",
    "if rows:\n",
    "    df = pd.DataFrame(rows).sort_values(\"modified\", ascending=False)\n",
    "    display(df)"
   ]
  },
  {
   "cell_type": "markdown",
   "id": "faefc13a",
   "metadata": {},
   "source": [
    "## 2. Configure Credentials\n",
    "Auto-detect or enter your API key, channel, and region if prompted.\n",
    "Sources checked: env var `MIPS_ATLAS_CONFIG` and config file in your home directory."
   ]
  },
  {
   "cell_type": "markdown",
   "id": "c788acde",
   "metadata": {},
   "source": [
    "(Already covered above – proceed to run the next cell.)"
   ]
  },
  {
   "cell_type": "code",
   "execution_count": 3,
   "id": "f69ea919",
   "metadata": {},
   "outputs": [
    {
     "name": "stdout",
     "output_type": "stream",
     "text": [
      "Credentials detected from environment variable.\n",
      "Ready.\n"
     ]
    }
   ],
   "source": [
    "# Credentials detection / entry (run once)\n",
    "from pathlib import Path\n",
    "import os, json\n",
    "from dotenv import load_dotenv\n",
    "\n",
    "load_dotenv()\n",
    "CONFIG_ENV = \"MIPS_ATLAS_CONFIG\"\n",
    "cfg_file = Path.home() / \".config/mips/atlaspy/config.json\"\n",
    "\n",
    "if os.environ.get(CONFIG_ENV):\n",
    "    print(\"Credentials detected from environment variable.\")\n",
    "elif cfg_file.exists():\n",
    "    try:\n",
    "        data = json.loads(cfg_file.read_text())\n",
    "        os.environ[CONFIG_ENV] = f\"{data['apikey']}:{data['channel']}:{data['region']}\"\n",
    "        print(f\"Credentials loaded from {cfg_file}\")\n",
    "    except Exception as e:\n",
    "        print(f\"Could not parse {cfg_file}: {e}\")\n",
    "\n",
    "if not os.environ.get(CONFIG_ENV):\n",
    "    print(\"No saved credentials found. Enter details below then re-run this cell.\")\n",
    "    ae_apikey  = \"\"  # REQUIRED\n",
    "    ae_channel = \"development\"\n",
    "    ae_region  = \"\"  # REQUIRED\n",
    "    persist_to_file = True\n",
    "\n",
    "    if not ae_apikey or not ae_channel or not ae_region:\n",
    "        print(\"Waiting for input... (fill ae_apikey, ae_channel, ae_region above)\")\n",
    "    else:\n",
    "        os.environ[CONFIG_ENV] = f\"{ae_apikey}:{ae_channel}:{ae_region}\"\n",
    "        print(\"Session credentials set.\")\n",
    "        if persist_to_file:\n",
    "            cfg_file.parent.mkdir(parents=True, exist_ok=True)\n",
    "            cfg_file.write_text(json.dumps({\"apikey\": ae_apikey, \"channel\": ae_channel, \"region\": ae_region}, indent=2))\n",
    "            print(f\"Saved to {cfg_file}\")\n",
    "else:\n",
    "    print(\"Ready.\")"
   ]
  },
  {
   "cell_type": "markdown",
   "id": "214f4d32",
   "metadata": {},
   "source": [
    "## 3. Multicore Experiment Overview\n",
    "We'll run multiple workloads on a multicore configuration. Adjust parameters next, then run."
   ]
  },
  {
   "cell_type": "markdown",
   "id": "cc386c22",
   "metadata": {},
   "source": [
    "### Prerequisites\n",
    "- Credentials configured (step 2)\n",
    "- ELFs present under `resources/`\n",
    "- No edits needed unless changing workloads or core"
   ]
  },
  {
   "cell_type": "code",
   "execution_count": 4,
   "id": "5d557fcb",
   "metadata": {},
   "outputs": [
    {
     "name": "stdout",
     "output_type": "stream",
     "text": [
      "Parameters set. Modify above as needed.\n"
     ]
    }
   ],
   "source": [
    "# 3.a EDITABLE PARAMETERS (multiple workloads)\n",
    "elfs = [\n",
    "    \"resources/mandelbrot_rv64_O0.elf\",\n",
    "    \"resources/memcpy_rv64.elf\",\n",
    "]\n",
    "expdir = \"myexperiments\"\n",
    "core = \"I8500_(2_threads)\"\n",
    "channel = \"development\"\n",
    "apikey = None\n",
    "region = None\n",
    "verbose = False\n",
    "\n",
    "# Optional export format: None | 'json' | 'markdown' | 'html' | 'rich-html' | 'zip'\n",
    "export = None\n",
    "out = None\n",
    "print(\"Parameters set. Modify above as needed.\")"
   ]
  },
  {
   "cell_type": "code",
   "execution_count": 5,
   "id": "f41efdf6",
   "metadata": {},
   "outputs": [
    {
     "name": "stdout",
     "output_type": "stream",
     "text": [
      "Credentials appear available. Proceed.\n"
     ]
    }
   ],
   "source": [
    "# 3.b Environment validation (no edits needed)\n",
    "import os, locale\n",
    "from pathlib import Path\n",
    "from dotenv import load_dotenv\n",
    "\n",
    "load_dotenv()\n",
    "locale.setlocale(locale.LC_ALL, \"\")\n",
    "\n",
    "config_env = os.environ.get(\"MIPS_ATLAS_CONFIG\")\n",
    "config_file = Path.home() / \".config/mips/atlaspy/config.json\"\n",
    "if not apikey and not config_env and not config_file.exists():\n",
    "    print(\"NOTE: Configure credentials before running (see step 2).\")\n",
    "else:\n",
    "    print(\"Credentials appear available. Proceed.\")"
   ]
  },
  {
   "cell_type": "code",
   "execution_count": 6,
   "id": "05f94d06",
   "metadata": {},
   "outputs": [
    {
     "name": "stdout",
     "output_type": "stream",
     "text": [
      "Starting multicore experiment run...\n",
      "Available versions: latest, ST-2025-07-16-171806\n",
      "No report directory found:summary\n",
      "Total Cycles: 257577\n",
      "Latest summary: myexperiments/I8500_(2_threads)_250811_105432/I8500_(2_threads)_250811_105432/reports/summary/summary.json\n"
     ]
    }
   ],
   "source": [
    "# 4. Run the multicore experiment\n",
    "from atlasexplorer.atlasexplorer import AtlasExplorer, Experiment\n",
    "\n",
    "print(\"Starting multicore experiment run...\")\n",
    "aeinst = AtlasExplorer(apikey, channel, region, verbose=verbose)\n",
    "experiment = Experiment(expdir, aeinst, verbose=verbose)\n",
    "for e in elfs:\n",
    "    experiment.addWorkload(os.path.abspath(e))\n",
    "experiment.setCore(core)\n",
    "experiment.run()\n",
    "\n",
    "try:\n",
    "    total_cycles = experiment.getSummary().getTotalCycles()\n",
    "    print(f\"Total Cycles: {total_cycles}\")\n",
    "except Exception:\n",
    "    print(\"Could not retrieve total cycles from summary object.\")\n",
    "\n",
    "from pathlib import Path\n",
    "exp_path = Path(expdir)\n",
    "summary_candidates = list(exp_path.rglob(\"summary/summary.json\"))\n",
    "if not summary_candidates:\n",
    "    raise FileNotFoundError(\"No summary.json found under experiment directory\")\n",
    "summary_candidates.sort(key=lambda p: p.stat().st_mtime, reverse=True)\n",
    "summary_path = summary_candidates[0]\n",
    "print(f\"Latest summary: {summary_path}\")"
   ]
  },
  {
   "cell_type": "code",
   "execution_count": null,
   "id": "b3d91b6d",
   "metadata": {},
   "outputs": [],
   "source": [
    "# 5. View summary (tabular)\n",
    "import json, pandas as pd\n",
    "with open(summary_path) as f:\n",
    "    summary_data = json.load(f)\n",
    "\n",
    "if isinstance(summary_data, dict):\n",
    "    df = pd.DataFrame([summary_data])\n",
    "elif isinstance(summary_data, list):\n",
    "    df = pd.DataFrame(summary_data)\n",
    "else:\n",
    "    df = None\n",
    "\n",
    "if df is not None:\n",
    "    display(df.head())\n",
    "else:\n",
    "    print(summary_data)\n",
    "\n",
    "print(\"Displayed summary (first rows if large).\")"
   ]
  },
  {
   "cell_type": "code",
   "execution_count": null,
   "id": "89ee3053",
   "metadata": {},
   "outputs": [],
   "source": [
    "# 6.a Load metrics from summary.json\n",
    "import json, locale, math\n",
    "from pathlib import Path\n",
    "import pandas as pd\n",
    "\n",
    "if not 'summary_path' in globals():\n",
    "    raise RuntimeError(\"summary_path not found (run experiment first or set manually)\")\n",
    "\n",
    "with open(summary_path) as f:\n",
    "    raw = json.load(f)\n",
    "metrics_root = raw['Statistics']['Summary Performance Report']\n",
    "\n",
    "rows = []\n",
    "for key, entry in metrics_root.items():\n",
    "    if key == 'ordered_keys':\n",
    "        continue\n",
    "    rows.append({\n",
    "        'Metric': key,\n",
    "        'Value': entry.get('val'),\n",
    "        'Unit': entry.get('unit') or entry.get('units') or ''\n",
    "    })\n",
    "metrics_df = pd.DataFrame(rows)\n",
    "\n",
    "locale.setlocale(locale.LC_ALL, \"\")\n",
    "import math as _math\n",
    "\n",
    "def fmt(v):\n",
    "    if isinstance(v, int):\n",
    "        try:\n",
    "            return locale.format_string('%d', v, grouping=True)\n",
    "        except Exception:\n",
    "            return v\n",
    "    if isinstance(v, float) and _math.isfinite(v):\n",
    "        return f\"{v:,.4g}\"\n",
    "    return v\n",
    "\n",
    "metrics_df['Formatted'] = metrics_df['Value'].map(fmt)\n",
    "metrics_df.head(len(metrics_df))"
   ]
  },
  {
   "cell_type": "code",
   "execution_count": null,
   "id": "ddd7d565",
   "metadata": {},
   "outputs": [],
   "source": [
    "# 6.b OPTIONAL: Text filter\n",
    "filter_text = ''\n",
    "filtered = metrics_df\n",
    "if filter_text:\n",
    "    ft = filter_text.lower()\n",
    "    filtered = metrics_df[metrics_df['Metric'].str.lower().str.contains(ft)]\n",
    "filtered.head(len(filtered))"
   ]
  },
  {
   "cell_type": "markdown",
   "id": "407c39c2",
   "metadata": {},
   "source": [
    "### 6. Explore Metrics (Interactive)\n",
    "Load and inspect all metrics from the `summary.json`. You can optionally filter by text."
   ]
  }
 ],
 "metadata": {
  "kernelspec": {
   "display_name": "Python 3 (ipykernel)",
   "language": "python",
   "name": "python3"
  },
  "language_info": {
   "codemirror_mode": {
    "name": "ipython",
    "version": 3
   },
   "file_extension": ".py",
   "mimetype": "text/x-python",
   "name": "python",
   "nbconvert_exporter": "python",
   "pygments_lexer": "ipython3",
   "version": "3.12.11"
  }
 },
 "nbformat": 4,
 "nbformat_minor": 5
}
