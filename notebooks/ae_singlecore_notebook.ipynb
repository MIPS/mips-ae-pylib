{
 "cells": [
  {
   "cell_type": "markdown",
   "id": "aec330c2",
   "metadata": {},
   "source": [
    "# ATLAS Explorer: Single-Core Experiment (Customer Notebook)\n",
    "\n",
    "Welcome! This guided notebook walks you through running a *single-core* ATLAS Explorer experiment without needing to know Python programming.\n",
    "\n",
    "You will:\n",
    "1. Verify prerequisites\n",
    "2. Configure (or auto-detect) your credentials\n",
    "3. Set a few experiment parameters (file, core type, etc.)\n",
    "4. Run the experiment\n",
    "5. View key results (Total Cycles + summary table)\n",
    "6. (Optional) Explore derived metrics\n",
    "\n",
    "Tips:\n",
    "- Edit only the clearly marked parameter cells (grey code boxes with simple assignments)\n",
    "- Re‑run a cell with Shift+Enter\n",
    "- If something fails, read the printed message and adjust the parameters\n",
    "\n",
    "---\n"
   ]
  },
  {
   "cell_type": "code",
   "execution_count": 1,
   "id": "28da16f7",
   "metadata": {},
   "outputs": [
    {
     "name": "stdout",
     "output_type": "stream",
     "text": [
      "Environment initialized. Proceed to the next cell.\n"
     ]
    }
   ],
   "source": [
    "\"\"\"Preamble: core imports used later. No need to modify.\"\"\"\n",
    "import os, json, locale, datetime\n",
    "from pathlib import Path\n",
    "import pandas as pd  # used for tabular display\n",
    "from dotenv import load_dotenv\n",
    "\n",
    "# Load any .env for convenience (optional)\n",
    "load_dotenv()\n",
    "locale.setlocale(locale.LC_ALL, \"\")\n",
    "\n",
    "print(\"Environment initialized. Proceed to the next cell.\")"
   ]
  },
  {
   "cell_type": "markdown",
   "id": "5a52ac6a",
   "metadata": {},
   "source": [
    "## 1. Check Project & Existing Experiments\n",
    "This cell will:\n",
    "- Ensure the working directory is the repository root\n",
    "- List any prior experiment runs in `myexperiments/`\n",
    "\n",
    "You don't need to edit the code—just run it."
   ]
  },
  {
   "cell_type": "code",
   "execution_count": 2,
   "id": "64ab2bd7",
   "metadata": {},
   "outputs": [
    {
     "name": "stdout",
     "output_type": "stream",
     "text": [
      "Working directory set to repo root: /Users/jschroeder/Documents/code_repos/mips-ae-pylib\n"
     ]
    },
    {
     "data": {
      "text/html": [
       "<div>\n",
       "<style scoped>\n",
       "    .dataframe tbody tr th:only-of-type {\n",
       "        vertical-align: middle;\n",
       "    }\n",
       "\n",
       "    .dataframe tbody tr th {\n",
       "        vertical-align: top;\n",
       "    }\n",
       "\n",
       "    .dataframe thead th {\n",
       "        text-align: right;\n",
       "    }\n",
       "</style>\n",
       "<table border=\"1\" class=\"dataframe\">\n",
       "  <thead>\n",
       "    <tr style=\"text-align: right;\">\n",
       "      <th></th>\n",
       "      <th>name</th>\n",
       "      <th>summary</th>\n",
       "      <th>modified</th>\n",
       "    </tr>\n",
       "  </thead>\n",
       "  <tbody>\n",
       "    <tr>\n",
       "      <th>1</th>\n",
       "      <td>I8500_(2_threads)_250808_103012</td>\n",
       "      <td>/Users/jschroeder/Documents/code_repos/mips-ae...</td>\n",
       "      <td>2025-08-08T10:34:36</td>\n",
       "    </tr>\n",
       "    <tr>\n",
       "      <th>0</th>\n",
       "      <td>I8500_(1_thread)_250808_102301</td>\n",
       "      <td>/Users/jschroeder/Documents/code_repos/mips-ae...</td>\n",
       "      <td>2025-08-08T10:27:58</td>\n",
       "    </tr>\n",
       "  </tbody>\n",
       "</table>\n",
       "</div>"
      ],
      "text/plain": [
       "                              name  \\\n",
       "1  I8500_(2_threads)_250808_103012   \n",
       "0   I8500_(1_thread)_250808_102301   \n",
       "\n",
       "                                             summary             modified  \n",
       "1  /Users/jschroeder/Documents/code_repos/mips-ae...  2025-08-08T10:34:36  \n",
       "0  /Users/jschroeder/Documents/code_repos/mips-ae...  2025-08-08T10:27:58  "
      ]
     },
     "metadata": {},
     "output_type": "display_data"
    }
   ],
   "source": [
    "# (No edits needed) Detect repo root and list existing experiment runs.\n",
    "from pathlib import Path\n",
    "import os, datetime\n",
    "\n",
    "cwd = Path.cwd()\n",
    "repo_root = None\n",
    "for p in [cwd, *cwd.parents]:\n",
    "    if (p / \"pyproject.toml\").exists() or (p / \".git\").exists():\n",
    "        repo_root = p\n",
    "        break\n",
    "repo_root = repo_root or cwd\n",
    "os.chdir(repo_root)\n",
    "print(f\"Working directory set to repo root: {repo_root}\")\n",
    "\n",
    "exp_root = repo_root / \"myexperiments\"\n",
    "rows = []\n",
    "if exp_root.exists():\n",
    "    for run_dir in sorted(exp_root.iterdir()):\n",
    "        if run_dir.is_dir():\n",
    "            summary = next(run_dir.rglob(\"reports/summary/summary.json\"), None)\n",
    "            mtime = datetime.datetime.fromtimestamp(run_dir.stat().st_mtime)\n",
    "            rows.append({\n",
    "                \"name\": run_dir.name,\n",
    "                \"summary\": str(summary) if summary else \"-\",\n",
    "                \"modified\": mtime.isoformat(timespec=\"seconds\"),\n",
    "            })\n",
    "    if not rows:\n",
    "        print(\"No experiments found yet under 'myexperiments'.\")\n",
    "else:\n",
    "    print(\"No 'myexperiments' directory found yet.\")\n",
    "\n",
    "if rows:\n",
    "    df = pd.DataFrame(rows).sort_values(\"modified\", ascending=False)\n",
    "    display(df)"
   ]
  },
  {
   "cell_type": "markdown",
   "id": "0620e70d",
   "metadata": {},
   "source": [
    "## Project root & experiments\n",
    "This notebook will first switch the working directory to the repository root and list any existing experiments under `myexperiments/`."
   ]
  },
  {
   "cell_type": "markdown",
   "id": "3c91c223",
   "metadata": {},
   "source": [
    "## 2. Configure Credentials\n",
    "ATLAS Explorer needs your API key, channel, and region. The notebook will auto-detect them from:\n",
    "1. Environment variable `MIPS_ATLAS_CONFIG` (format: apikey:channel:region)\n",
    "2. Config file `~/.config/mips/atlaspy/config.json`\n",
    "\n",
    "If neither is found you'll enter them below."
   ]
  },
  {
   "cell_type": "code",
   "execution_count": 3,
   "id": "ecfa86f2",
   "metadata": {},
   "outputs": [
    {
     "name": "stdout",
     "output_type": "stream",
     "text": [
      "Credentials detected from environment variable MIPS_ATLAS_CONFIG.\n",
      "Ready.\n"
     ]
    }
   ],
   "source": [
    "# Enter ONLY if prompted. Run once.\n",
    "from pathlib import Path\n",
    "import os, json\n",
    "from dotenv import load_dotenv\n",
    "\n",
    "load_dotenv()\n",
    "CONFIG_ENV = \"MIPS_ATLAS_CONFIG\"\n",
    "cfg_file = Path.home() / \".config/mips/atlaspy/config.json\"\n",
    "\n",
    "if os.environ.get(CONFIG_ENV):\n",
    "    print(\"Credentials detected from environment variable MIPS_ATLAS_CONFIG.\")\n",
    "elif cfg_file.exists():\n",
    "    try:\n",
    "        data = json.loads(cfg_file.read_text())\n",
    "        os.environ[CONFIG_ENV] = f\"{data['apikey']}:{data['channel']}:{data['region']}\"\n",
    "        print(f\"Credentials loaded from {cfg_file}\")\n",
    "    except Exception as e:\n",
    "        print(f\"Could not parse {cfg_file}: {e}\")\n",
    "\n",
    "if not os.environ.get(CONFIG_ENV):\n",
    "    print(\"No saved credentials found. Please fill the three fields below and re-run this cell.\")\n",
    "    ae_apikey   = \"\"  # REQUIRED e.g. \"your-api-key\"\n",
    "    ae_channel  = \"development\"  # or your channel\n",
    "    ae_region   = \"\"  # REQUIRED e.g. \"us-west-2\"\n",
    "    persist_to_file = True\n",
    "\n",
    "    if not ae_apikey or not ae_channel or not ae_region:\n",
    "        print(\"Waiting for input... (fill ae_apikey, ae_channel, ae_region above)\")\n",
    "    else:\n",
    "        os.environ[CONFIG_ENV] = f\"{ae_apikey}:{ae_channel}:{ae_region}\"\n",
    "        print(\"Session credentials set.\")\n",
    "        if persist_to_file:\n",
    "            cfg_file.parent.mkdir(parents=True, exist_ok=True)\n",
    "            cfg_file.write_text(json.dumps({\"apikey\": ae_apikey, \"channel\": ae_channel, \"region\": ae_region}, indent=2))\n",
    "            print(f\"Saved to {cfg_file}\")\n",
    "else:\n",
    "    print(\"Ready.\")"
   ]
  },
  {
   "cell_type": "markdown",
   "id": "0f992fae",
   "metadata": {},
   "source": [
    "## 3. Experiment Overview\n",
    "We'll run a single workload (ELF) on a specified core configuration. Adjust parameters next, then run the experiment."
   ]
  },
  {
   "cell_type": "markdown",
   "id": "28b31519",
   "metadata": {},
   "source": [
    "### Prerequisites\n",
    "- Credentials configured (step 2)\n",
    "- Example ELF present under `resources/` (default provided)\n",
    "- No changes needed below unless you want a different ELF or core"
   ]
  },
  {
   "cell_type": "code",
   "execution_count": 4,
   "id": "7f128e62",
   "metadata": {},
   "outputs": [
    {
     "name": "stdout",
     "output_type": "stream",
     "text": [
      "Parameters set. Modify above as needed.\n"
     ]
    }
   ],
   "source": [
    "# 3.a EDITABLE PARAMETERS\n",
    "elf = \"resources/mandelbrot_rv64_O0.elf\"   # Path to workload ELF\n",
    "expdir = \"myexperiments\"                   # Folder to store runs\n",
    "core = \"I8500_(1_thread)\"                  # Core type (matches script example)\n",
    "channel = \"development\"                    # Channel (can leave as-is)\n",
    "apikey = None                               # Usually leave None (auto from config)\n",
    "region = None                               # Usually leave None (auto from config)\n",
    "verbose = False                             # Set True for detailed logs\n",
    "\n",
    "# Optional export format: None | 'json' | 'markdown' | 'html' | 'rich-html' | 'zip'\n",
    "export = None\n",
    "out = None  # Optional target path for exported artifact\n",
    "print(\"Parameters set. Modify above as needed.\")"
   ]
  },
  {
   "cell_type": "code",
   "execution_count": 5,
   "id": "b8530d14",
   "metadata": {},
   "outputs": [
    {
     "name": "stdout",
     "output_type": "stream",
     "text": [
      "Credentials appear available. Proceed.\n"
     ]
    }
   ],
   "source": [
    "# 3.b Environment validation (no edits needed)\n",
    "import os, locale\n",
    "from pathlib import Path\n",
    "from dotenv import load_dotenv\n",
    "\n",
    "load_dotenv()\n",
    "locale.setlocale(locale.LC_ALL, \"\")\n",
    "\n",
    "config_env = os.environ.get(\"MIPS_ATLAS_CONFIG\")\n",
    "config_file = Path.home() / \".config/mips/atlaspy/config.json\"\n",
    "if not apikey and not config_env and not config_file.exists():\n",
    "    print(\"NOTE: Run 'uv run atlasexplorer/atlasexplorer.py configure' or set MIPS_ATLAS_CONFIG before running.\")\n",
    "else:\n",
    "    print(\"Credentials appear available. Proceed.\")"
   ]
  },
  {
   "cell_type": "code",
   "execution_count": 6,
   "id": "8c2d7554",
   "metadata": {},
   "outputs": [
    {
     "name": "stdout",
     "output_type": "stream",
     "text": [
      "Starting experiment run...\n",
      "Available versions: latest, ST-2025-07-16-171806\n",
      "No report directory found:summary\n",
      "Total Cycles: 253629\n",
      "Latest summary: myexperiments/I8500_(1_thread)_250811_105319/I8500_(1_thread)_250811_105319/reports/summary/summary.json\n"
     ]
    }
   ],
   "source": [
    "# 4. Run the experiment (this uploads, executes, downloads results)\n",
    "from atlasexplorer.atlasexplorer import AtlasExplorer, Experiment\n",
    "\n",
    "print(\"Starting experiment run...\")\n",
    "aeinst = AtlasExplorer(apikey, channel, region, verbose=verbose)\n",
    "experiment = Experiment(expdir, aeinst, verbose=verbose)\n",
    "experiment.addWorkload(os.path.abspath(elf))\n",
    "experiment.setCore(core)\n",
    "experiment.run()\n",
    "\n",
    "# Total cycles (matches example script output)\n",
    "try:\n",
    "    total_cycles = experiment.getSummary().getTotalCycles()\n",
    "    print(f\"Total Cycles: {total_cycles}\")\n",
    "except Exception:\n",
    "    print(\"Could not retrieve total cycles from summary object.\")\n",
    "\n",
    "# Locate latest summary.json\n",
    "from pathlib import Path\n",
    "exp_path = Path(expdir)\n",
    "summary_candidates = list(exp_path.rglob(\"summary/summary.json\"))\n",
    "if not summary_candidates:\n",
    "    raise FileNotFoundError(\"No summary.json found under experiment directory\")\n",
    "summary_candidates.sort(key=lambda p: p.stat().st_mtime, reverse=True)\n",
    "summary_path = summary_candidates[0]\n",
    "print(f\"Latest summary: {summary_path}\")"
   ]
  },
  {
   "cell_type": "code",
   "execution_count": 7,
   "id": "baab9569",
   "metadata": {},
   "outputs": [
    {
     "data": {
      "text/html": [
       "<div>\n",
       "<style scoped>\n",
       "    .dataframe tbody tr th:only-of-type {\n",
       "        vertical-align: middle;\n",
       "    }\n",
       "\n",
       "    .dataframe tbody tr th {\n",
       "        vertical-align: top;\n",
       "    }\n",
       "\n",
       "    .dataframe thead th {\n",
       "        text-align: right;\n",
       "    }\n",
       "</style>\n",
       "<table border=\"1\" class=\"dataframe\">\n",
       "  <thead>\n",
       "    <tr style=\"text-align: right;\">\n",
       "      <th></th>\n",
       "      <th>Statistics</th>\n",
       "      <th>vis</th>\n",
       "      <th>siminfo</th>\n",
       "      <th>report_metadata</th>\n",
       "    </tr>\n",
       "  </thead>\n",
       "  <tbody>\n",
       "    <tr>\n",
       "      <th>0</th>\n",
       "      <td>{'Summary Performance Report': {'Total Cycles ...</td>\n",
       "      <td>{'hidden': 0, 'support': 1000000, 'detail': 10...</td>\n",
       "      <td>{'name': 'Shinro RISC-V Perf Model ', 'sim_ver...</td>\n",
       "      <td>{'arch': 'I8500_(1_thread)', 'report_format': ...</td>\n",
       "    </tr>\n",
       "  </tbody>\n",
       "</table>\n",
       "</div>"
      ],
      "text/plain": [
       "                                          Statistics  \\\n",
       "0  {'Summary Performance Report': {'Total Cycles ...   \n",
       "\n",
       "                                                 vis  \\\n",
       "0  {'hidden': 0, 'support': 1000000, 'detail': 10...   \n",
       "\n",
       "                                             siminfo  \\\n",
       "0  {'name': 'Shinro RISC-V Perf Model ', 'sim_ver...   \n",
       "\n",
       "                                     report_metadata  \n",
       "0  {'arch': 'I8500_(1_thread)', 'report_format': ...  "
      ]
     },
     "metadata": {},
     "output_type": "display_data"
    },
    {
     "name": "stdout",
     "output_type": "stream",
     "text": [
      "Displayed summary (first rows if large).\n"
     ]
    }
   ],
   "source": [
    "# 5. View summary (tabular)\n",
    "import json, pandas as pd\n",
    "with open(summary_path) as f:\n",
    "    summary_data = json.load(f)\n",
    "\n",
    "if isinstance(summary_data, dict):\n",
    "    df = pd.DataFrame([summary_data])\n",
    "elif isinstance(summary_data, list):\n",
    "    df = pd.DataFrame(summary_data)\n",
    "else:\n",
    "    df = None\n",
    "\n",
    "if df is not None:\n",
    "    display(df.head())\n",
    "else:\n",
    "    print(summary_data)\n",
    "\n",
    "print(\"Displayed summary (first rows if large).\")"
   ]
  },
  {
   "cell_type": "code",
   "execution_count": null,
   "id": "6af721bf",
   "metadata": {},
   "outputs": [],
   "source": [
    "# 6.a Load metrics from summary.json (edit summary_path if you want another file)\n",
    "import json, locale, math\n",
    "from pathlib import Path\n",
    "import pandas as pd\n",
    "\n",
    "# If you have an external summary file, override here, e.g.:\n",
    "# summary_path = Path(\"/full/path/to/other/summary.json\")\n",
    "\n",
    "if not 'summary_path' in globals():\n",
    "    raise RuntimeError(\"summary_path not found (run experiment first or set manually)\")\n",
    "\n",
    "with open(summary_path) as f:\n",
    "    raw = json.load(f)\n",
    "\n",
    "# Expected structure: raw['Statistics']['Summary Performance Report']\n",
    "try:\n",
    "    metrics_root = raw['Statistics']['Summary Performance Report']\n",
    "except KeyError:\n",
    "    raise KeyError(\"summary.json does not have expected Statistics -> Summary Performance Report structure\")\n",
    "\n",
    "rows = []\n",
    "for key, entry in metrics_root.items():\n",
    "    if key == 'ordered_keys':\n",
    "        continue\n",
    "    val = entry.get('val')\n",
    "    unit = entry.get('unit') or entry.get('units') or ''\n",
    "    rows.append({\n",
    "        'Metric': key,\n",
    "        'Value': val,\n",
    "        'Unit': unit,\n",
    "    })\n",
    "\n",
    "metrics_df = pd.DataFrame(rows)\n",
    "\n",
    "# Nicely format large integers with grouping\n",
    "locale.setlocale(locale.LC_ALL, \"\")\n",
    "def fmt(v):\n",
    "    if isinstance(v, int):\n",
    "        try:\n",
    "            return locale.format_string('%d', v, grouping=True)\n",
    "        except Exception:\n",
    "            return v\n",
    "    if isinstance(v, float):\n",
    "        if math.isfinite(v):\n",
    "            return f\"{v:,.4g}\"\n",
    "    return v\n",
    "\n",
    "metrics_df['Formatted'] = metrics_df['Value'].map(fmt)\n",
    "metrics_df.head(len(metrics_df))"
   ]
  },
  {
   "cell_type": "code",
   "execution_count": null,
   "id": "a56ed80b",
   "metadata": {},
   "outputs": [],
   "source": [
    "# 6.b OPTIONAL: Simple text filter (set filter_text then run)\n",
    "filter_text = ''  # e.g. 'Cycles' or 'Instructions'\n",
    "filtered = metrics_df\n",
    "if filter_text:\n",
    "    ft = filter_text.lower()\n",
    "    filtered = metrics_df[metrics_df['Metric'].str.lower().str.contains(ft)]\n",
    "filtered.head(len(filtered))"
   ]
  },
  {
   "cell_type": "markdown",
   "id": "a11c8689",
   "metadata": {},
   "source": [
    "### 6. Explore Metrics (Interactive)\n",
    "Below you can load metrics from the `summary.json` and interactively filter or sort them.\n",
    "If you have a different `summary.json` path, set it in the next code cell."
   ]
  },
  {
   "cell_type": "code",
   "execution_count": null,
   "id": "75684f5d-21ca-46b8-a9c6-9a25ff4242f8",
   "metadata": {},
   "outputs": [],
   "source": []
  }
 ],
 "metadata": {
  "kernelspec": {
   "display_name": "Python 3 (ipykernel)",
   "language": "python",
   "name": "python3"
  },
  "language_info": {
   "codemirror_mode": {
    "name": "ipython",
    "version": 3
   },
   "file_extension": ".py",
   "mimetype": "text/x-python",
   "name": "python",
   "nbconvert_exporter": "python",
   "pygments_lexer": "ipython3",
   "version": "3.12.11"
  }
 },
 "nbformat": 4,
 "nbformat_minor": 5
}
